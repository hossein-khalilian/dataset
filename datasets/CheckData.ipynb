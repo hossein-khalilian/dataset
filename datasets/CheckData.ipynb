{
 "cells": [
  {
   "cell_type": "code",
   "execution_count": 5,
   "metadata": {},
   "outputs": [],
   "source": [
    "import pickle\n",
    "import pandas as pd"
   ]
  },
  {
   "cell_type": "code",
   "execution_count": null,
   "metadata": {},
   "outputs": [],
   "source": [
    "with open('cifar10/12491/input.pkl', 'rb') as f:\n",
    "    x = pickle.load(f)"
   ]
  },
  {
   "cell_type": "code",
   "execution_count": 7,
   "metadata": {},
   "outputs": [],
   "source": [
    "x = pd.read_pickle(\"cifar10/12491/input.pkl\")"
   ]
  },
  {
   "cell_type": "code",
   "execution_count": null,
   "metadata": {},
   "outputs": [],
   "source": [
    "with open(inp_file, 'rb') as f:\n",
    "    j = pickle.load(f)\n",
    "    \n",
    "mg, G, ungroup_map = j['optim_mg'], j['G'], j['ungrouped_mapping']\n",
    "\n",
    "if 'op_perf' in j:\n",
    "    op_perf, step_stats = j['op_perf'], j['step_stats']\n",
    "    cost_d, out_d, temp_mem, mem_info = [None]* 4\n",
    "else:\n",
    "    cost_d, out_d, temp_mem = j['cost_d'], j['out_d'], j['temp_mem']\n",
    "    mem_info = j['mem_info']\n",
    "    op_perf, step_stats = None, None\n",
    "\n",
    "n_devs = config['n_devs']\n",
    "device_names = ['/device:GPU:%d' % i for i in range(n_devs)]"
   ]
  }
 ],
 "metadata": {
  "kernelspec": {
   "display_name": "henv",
   "language": "python",
   "name": "henv"
  },
  "language_info": {
   "codemirror_mode": {
    "name": "ipython",
    "version": 3
   },
   "file_extension": ".py",
   "mimetype": "text/x-python",
   "name": "python",
   "nbconvert_exporter": "python",
   "pygments_lexer": "ipython3",
   "version": "3.6.8"
  }
 },
 "nbformat": 4,
 "nbformat_minor": 2
}
